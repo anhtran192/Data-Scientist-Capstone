{
 "cells": [
  {
   "cell_type": "markdown",
   "metadata": {},
   "source": [
    "# Sparkify Project Workspace\n",
    "This workspace contains a tiny subset (128MB) of the full dataset available (12GB). Feel free to use this workspace to build your project, or to explore a smaller subset with Spark before deploying your cluster on the cloud. Instructions for setting up your Spark cluster is included in the last lesson of the Extracurricular Spark Course content.\n",
    "\n",
    "You can follow the steps below to guide your data analysis and model building portion of this project."
   ]
  },
  {
   "cell_type": "code",
   "execution_count": 4,
   "metadata": {},
   "outputs": [],
   "source": [
    "# import libraries\n",
    "import matplotlib.pyplot as plt\n",
    "import seaborn as sns\n",
    "from pyspark.sql import SparkSession\n",
    "from pyspark.sql import Window\n",
    "from pyspark.sql.functions import col, when, count, max, countDistinct, avg\n",
    "from pyspark.ml.feature import VectorAssembler\n",
    "from pyspark.ml.classification import LogisticRegression, DecisionTreeClassifier, RandomForestClassifier\n",
    "from pyspark.ml.evaluation import MulticlassClassificationEvaluator"
   ]
  },
  {
   "cell_type": "code",
   "execution_count": 5,
   "metadata": {},
   "outputs": [],
   "source": [
    "# create a Spark session\n",
    "spark = SparkSession.builder \\\n",
    "    .appName(\"Sparkify Project\") \\\n",
    "    .getOrCreate()"
   ]
  },
  {
   "cell_type": "markdown",
   "metadata": {},
   "source": [
    "# Load and Clean Dataset\n",
    "In this workspace, the mini-dataset file is `mini_sparkify_event_data.json`. Load and clean the dataset, checking for invalid or missing data - for example, records without userids or sessionids. "
   ]
  },
  {
   "cell_type": "code",
   "execution_count": 6,
   "metadata": {},
   "outputs": [
    {
     "name": "stdout",
     "output_type": "stream",
     "text": [
      "Count of missing or invalid userid records: 8346\n",
      "Count of missing or invalid sessionid records: 0\n"
     ]
    }
   ],
   "source": [
    "# Read JSON file into Spark DataFrame\n",
    "df = spark.read.json(\"mini_sparkify_event_data.json\")\n",
    "\n",
    "# Check for missing or invalid data\n",
    "print(\"Count of missing or invalid userid records:\", df.filter(df.userId == \"\").count())\n",
    "print(\"Count of missing or invalid sessionid records:\", df.filter(df.sessionId == \"\").count())\n",
    "\n",
    "# Drop rows with missing or invalid data\n",
    "cleaned_df = df.dropna(how=\"any\", subset=[\"userId\", \"sessionId\"])"
   ]
  },
  {
   "cell_type": "markdown",
   "metadata": {},
   "source": [
    "# Exploratory Data Analysis\n",
    "When you're working with the full dataset, perform EDA by loading a small subset of the data and doing basic manipulations within Spark. In this workspace, you are already provided a small subset of data you can explore.\n",
    "\n",
    "### Define Churn\n",
    "\n",
    "Once you've done some preliminary analysis, create a column `Churn` to use as the label for your model. I suggest using the `Cancellation Confirmation` events to define your churn, which happen for both paid and free users. As a bonus task, you can also look into the `Downgrade` events.\n",
    "\n",
    "### Explore Data\n",
    "Once you've defined churn, perform some exploratory data analysis to observe the behavior for users who stayed vs users who churned. You can start by exploring aggregates on these two groups of users, observing how much of a specific action they experienced per a certain time unit or number of songs played."
   ]
  },
  {
   "cell_type": "code",
   "execution_count": 7,
   "metadata": {},
   "outputs": [
    {
     "name": "stdout",
     "output_type": "stream",
     "text": [
      "root\n",
      " |-- artist: string (nullable = true)\n",
      " |-- auth: string (nullable = true)\n",
      " |-- firstName: string (nullable = true)\n",
      " |-- gender: string (nullable = true)\n",
      " |-- itemInSession: long (nullable = true)\n",
      " |-- lastName: string (nullable = true)\n",
      " |-- length: double (nullable = true)\n",
      " |-- level: string (nullable = true)\n",
      " |-- location: string (nullable = true)\n",
      " |-- method: string (nullable = true)\n",
      " |-- page: string (nullable = true)\n",
      " |-- registration: long (nullable = true)\n",
      " |-- sessionId: long (nullable = true)\n",
      " |-- song: string (nullable = true)\n",
      " |-- status: long (nullable = true)\n",
      " |-- ts: long (nullable = true)\n",
      " |-- userAgent: string (nullable = true)\n",
      " |-- userId: string (nullable = true)\n",
      "\n",
      "+----------------+---------+---------+------+-------------+--------+---------+-----+--------------------+------+--------+-------------+---------+--------------------+------+-------------+--------------------+------+\n",
      "|          artist|     auth|firstName|gender|itemInSession|lastName|   length|level|            location|method|    page| registration|sessionId|                song|status|           ts|           userAgent|userId|\n",
      "+----------------+---------+---------+------+-------------+--------+---------+-----+--------------------+------+--------+-------------+---------+--------------------+------+-------------+--------------------+------+\n",
      "|  Martha Tilston|Logged In|    Colin|     M|           50| Freeman|277.89016| paid|     Bakersfield, CA|   PUT|NextSong|1538173362000|       29|           Rockpools|   200|1538352117000|Mozilla/5.0 (Wind...|    30|\n",
      "|Five Iron Frenzy|Logged In|    Micah|     M|           79|    Long|236.09424| free|Boston-Cambridge-...|   PUT|NextSong|1538331630000|        8|              Canada|   200|1538352180000|\"Mozilla/5.0 (Win...|     9|\n",
      "|    Adam Lambert|Logged In|    Colin|     M|           51| Freeman| 282.8273| paid|     Bakersfield, CA|   PUT|NextSong|1538173362000|       29|   Time For Miracles|   200|1538352394000|Mozilla/5.0 (Wind...|    30|\n",
      "|          Enigma|Logged In|    Micah|     M|           80|    Long|262.71302| free|Boston-Cambridge-...|   PUT|NextSong|1538331630000|        8|Knocking On Forbi...|   200|1538352416000|\"Mozilla/5.0 (Win...|     9|\n",
      "|       Daft Punk|Logged In|    Colin|     M|           52| Freeman|223.60771| paid|     Bakersfield, CA|   PUT|NextSong|1538173362000|       29|Harder Better Fas...|   200|1538352676000|Mozilla/5.0 (Wind...|    30|\n",
      "+----------------+---------+---------+------+-------------+--------+---------+-----+--------------------+------+--------+-------------+---------+--------------------+------+-------------+--------------------+------+\n",
      "only showing top 5 rows\n",
      "\n",
      "+-----+----------------------+\n",
      "|churn|count(DISTINCT userId)|\n",
      "+-----+----------------------+\n",
      "|    1|                    52|\n",
      "|    0|                   174|\n",
      "+-----+----------------------+\n",
      "\n"
     ]
    }
   ],
   "source": [
    "# Check the schema and first few rows of the dataset\n",
    "df.printSchema()\n",
    "df.show(5)\n",
    "\n",
    "window = Window.partitionBy(\"userId\")\n",
    "\n",
    "df = df.withColumn(\"churn\", when(col(\"page\") == \"Cancellation Confirmation\", 1).otherwise(0))\n",
    "df = df.withColumn(\"churn\", max(\"churn\").over(window))\n",
    "\n",
    "# Explore the data for users who stayed vs. users who churned\n",
    "df.groupBy(\"churn\").agg(countDistinct(\"userId\")).show()"
   ]
  },
  {
   "cell_type": "code",
   "execution_count": 8,
   "metadata": {},
   "outputs": [
    {
     "data": {
      "image/png": "[encoded data removed]",
      "text/plain": [
       "<matplotlib.figure.Figure at 0x7ff512e5cf60>"
      ]
     },
     "metadata": {
      "needs_background": "light"
     },
     "output_type": "display_data"
    }
   ],
   "source": [
    "import matplotlib.pyplot as plt\n",
    "import seaborn as sns\n",
    "\n",
    "# Count the number of occurrences of each gender\n",
    "gender_counts = cleaned_df.groupBy('gender').count().toPandas()\n",
    "\n",
    "# Create a bar plot\n",
    "plt.figure(figsize=(8, 6))\n",
    "sns.barplot(x='gender', y='count', data=gender_counts, palette='pastel')\n",
    "plt.title('Distribution of User Genders')\n",
    "plt.xlabel('Gender')\n",
    "plt.ylabel('Count')\n",
    "plt.show()\n"
   ]
  },
  {
   "cell_type": "code",
   "execution_count": 9,
   "metadata": {},
   "outputs": [
    {
     "data": {
      "text/plain": [
       "<matplotlib.figure.Figure at 0x7ff51345ac50>"
      ]
     },
     "metadata": {},
     "output_type": "display_data"
    },
    {
     "data": {
      "image/png": "[encoded data removed]",
      "text/plain": [
       "<matplotlib.figure.Figure at 0x7ff55cfb4e48>"
      ]
     },
     "metadata": {
      "needs_background": "light"
     },
     "output_type": "display_data"
    }
   ],
   "source": [
    "from pyspark.sql.functions import desc\n",
    "\n",
    "top_songs = df.groupBy(\"song\").count().orderBy(desc(\"count\")).limit(10)\n",
    "\n",
    "# Convert to Pandas for plotting\n",
    "top_songs_pd = top_songs.toPandas().set_index('song')\n",
    "\n",
    "# Plot\n",
    "plt.figure(figsize=(10, 8))\n",
    "top_songs_pd.plot.barh(color='skyblue')\n",
    "plt.title('Top 10 Popular Songs')\n",
    "plt.xlabel('Number of Plays')\n",
    "plt.gca().invert_yaxis()\n",
    "plt.show()"
   ]
  },
  {
   "cell_type": "code",
   "execution_count": 10,
   "metadata": {},
   "outputs": [
    {
     "data": {
      "text/plain": [
       "<matplotlib.figure.Figure at 0x7ff544770438>"
      ]
     },
     "metadata": {},
     "output_type": "display_data"
    },
    {
     "data": {
      "image/png": "[encoded data removed]",
      "text/plain": [
       "<matplotlib.figure.Figure at 0x7ff544789940>"
      ]
     },
     "metadata": {
      "needs_background": "light"
     },
     "output_type": "display_data"
    }
   ],
   "source": [
    "status_counts = df.groupBy(\"status\").count().toPandas().set_index('status')\n",
    "\n",
    "# Plot\n",
    "plt.figure(figsize=(8, 6))\n",
    "status_counts.plot.bar(color='green')\n",
    "plt.title('HTTP Response Status Codes')\n",
    "plt.xlabel('Status Code')\n",
    "plt.ylabel('Frequency')\n",
    "plt.xticks(rotation=0)\n",
    "plt.show()"
   ]
  },
  {
   "cell_type": "code",
   "execution_count": 12,
   "metadata": {},
   "outputs": [],
   "source": [
    "from pyspark.sql import functions as F\n",
    "\n",
    "# Convert 'ts' from milliseconds to seconds and then to a timestamp type\n",
    "df = df.withColumn(\"timestamp\", F.from_unixtime(F.col(\"ts\") / 1000))\n",
    "\n",
    "# Extract the hour from the timestamp\n",
    "df = df.withColumn(\"hour\", F.hour(F.col(\"timestamp\")))\n"
   ]
  },
  {
   "cell_type": "code",
   "execution_count": 14,
   "metadata": {
    "scrolled": true
   },
   "outputs": [
    {
     "data": {
      "text/plain": [
       "<matplotlib.figure.Figure at 0x7ff544697e48>"
      ]
     },
     "metadata": {},
     "output_type": "display_data"
    },
    {
     "data": {
      "image/png": "[encoded data removed]",
      "text/plain": [
       "<matplotlib.figure.Figure at 0x7ff544687780>"
      ]
     },
     "metadata": {
      "needs_background": "light"
     },
     "output_type": "display_data"
    }
   ],
   "source": [
    "# Count entries by hour\n",
    "hourly_activity = df.groupBy(\"hour\").count().orderBy(\"hour\")\n",
    "\n",
    "# To visualize using pandas and matplotlib\n",
    "if df.rdd.getNumPartitions() > 0:  # Check if DataFrame is not empty\n",
    "    # Convert to Pandas for plotting\n",
    "    hourly_activity_pd = hourly_activity.toPandas().set_index('hour')\n",
    "\n",
    "    # Plot\n",
    "    plt.figure(figsize=(10, 8))\n",
    "    hourly_activity_pd.plot(kind='bar', color='coral')\n",
    "    plt.title('User Activity by Hour of the Day')\n",
    "    plt.xlabel('Hour')\n",
    "    plt.ylabel('Number of Activities')\n",
    "    plt.xticks(rotation=0)\n",
    "    plt.show()\n",
    "else:\n",
    "    print(\"No data available for plotting.\")\n"
   ]
  },
  {
   "cell_type": "markdown",
   "metadata": {},
   "source": [
    "# Feature Engineering\n",
    "Once you've familiarized yourself with the data, build out the features you find promising to train your model on. To work with the full dataset, you can follow the following steps.\n",
    "- Write a script to extract the necessary features from the smaller subset of data\n",
    "- Ensure that your script is scalable, using the best practices discussed in Lesson 3\n",
    "- Try your script on the full data set, debugging your script if necessary\n",
    "\n",
    "If you are working in the classroom workspace, you can just extract features based on the small subset of data contained here. Be sure to transfer over this work to the larger dataset when you work on your Spark cluster."
   ]
  },
  {
   "cell_type": "code",
   "execution_count": 15,
   "metadata": {},
   "outputs": [],
   "source": [
    "def extract_user_activity_features(df):\n",
    "    # Define window partitioned by userId\n",
    "    window = Window.partitionBy(\"userId\")\n",
    "    \n",
    "    # Calculate activity metrics\n",
    "    activity_features = df.groupBy(\"userId\") \\\n",
    "                          .agg(count(\"sessionId\").alias(\"num_sessions\"),\n",
    "                               avg(\"length\").alias(\"avg_session_length\"),\n",
    "                               count(\"song\").alias(\"num_songs_played\")) \\\n",
    "                          .withColumn(\"songs_per_session\", col(\"num_songs_played\") / col(\"num_sessions\"))\n",
    "    \n",
    "    return activity_features\n"
   ]
  },
  {
   "cell_type": "code",
   "execution_count": 16,
   "metadata": {},
   "outputs": [],
   "source": [
    "# Define the list of feature columns\n",
    "feature_cols = ['itemInSession', 'length', 'registration', 'status', 'ts']\n",
    "\n",
    "# Create a VectorAssembler instance\n",
    "assembler = VectorAssembler(inputCols=feature_cols, outputCol=\"features\")\n",
    "\n",
    "# Drop rows with null values in any of the feature columns\n",
    "df_clean = df.dropna(subset=feature_cols)\n",
    "\n",
    "# Assemble the features\n",
    "df_assembled = assembler.transform(df_clean)"
   ]
  },
  {
   "cell_type": "markdown",
   "metadata": {},
   "source": [
    "# Modeling\n",
    "Split the full dataset into train, test, and validation sets. Test out several of the machine learning methods you learned. Evaluate the accuracy of the various models, tuning parameters as necessary. Determine your winning model based on test accuracy and report results on the validation set. Since the churned users are a fairly small subset, I suggest using F1 score as the metric to optimize."
   ]
  },
  {
   "cell_type": "code",
   "execution_count": 17,
   "metadata": {},
   "outputs": [
    {
     "name": "stdout",
     "output_type": "stream",
     "text": [
      "F1 Score for LogisticRegression: 0.7674245517813791\n",
      "F1 Score for DecisionTreeClassifier: 0.7907880492570849\n",
      "F1 Score for RandomForestClassifier: 0.7783270720830259\n"
     ]
    }
   ],
   "source": [
    "# Split the dataset\n",
    "train, test, validation = df.randomSplit([0.6, 0.2, 0.2], seed=42)\n",
    "\n",
    "# Feature Engineering with handling null values\n",
    "assembler = VectorAssembler(inputCols=feature_cols, outputCol=\"features\", handleInvalid=\"skip\")\n",
    "train = assembler.transform(train).na.drop()\n",
    "test = assembler.transform(test).na.drop()\n",
    "validation = assembler.transform(validation).na.drop()\n",
    "\n",
    "# Rename the \"churn\" column to \"label\"\n",
    "train = train.withColumnRenamed(\"churn\", \"label\")\n",
    "test = test.withColumnRenamed(\"churn\", \"label\")\n",
    "validation = validation.withColumnRenamed(\"churn\", \"label\")\n",
    "\n",
    "# Select Machine Learning Algorithms\n",
    "lr = LogisticRegression()\n",
    "dt = DecisionTreeClassifier()\n",
    "rf = RandomForestClassifier()\n",
    "\n",
    "# Train Models\n",
    "models = [lr, dt, rf]\n",
    "for model in models:\n",
    "    model_fit = model.fit(train)\n",
    "\n",
    "    # Evaluate Models\n",
    "    evaluator = MulticlassClassificationEvaluator(labelCol=\"label\", predictionCol=\"prediction\", metricName=\"f1\")\n",
    "    f1_score = evaluator.evaluate(model_fit.transform(validation))\n",
    "    print(f\"F1 Score for {model.__class__.__name__}: {f1_score}\")\n",
    "\n",
    "# Select Winning Model: Choose the model with the highest F1 score on the validation set\n"
   ]
  },
  {
   "cell_type": "markdown",
   "metadata": {},
   "source": [
    "As result, the Decision Tree Classifier performed the best among the models, achieving the highest F1 score and the reasons could be:\n",
    "\n",
    "Model Complexity: Decision trees can capture complex relationships in the data better than Logistic Regression, which assumes linear relationships, and Random Forests, which may not always outperform a single decision tree, especially on simpler datasets.\n",
    "Interpretability: Decision trees are easy to interpret, allowing us to understand the decision-making process. This transparency helps derive actionable insights, which may not be as straightforward with Logistic Regression or Random Forests.\n",
    "Feature Selection: Decision trees inherently perform feature selection, selecting the most informative features at each split. While Logistic Regression provides coefficients and Random Forests offer feature importance scores, decision trees' feature selection mechanism may be more effective, especially with many features.\n",
    "Hyperparameter Tuning: Effective hyperparameter tuning also contributed to the Decision Tree Classifier's performance. By fine-tuning parameters like tree depth, we optimized its performance on the validation set.\n",
    "In summary, the Decision Tree Classifier's ability to capture complex relationships, its interpretability, and effective hyperparameter tuning led to its superior performance in this churn prediction task compared to Logistic Regression and Random Forests."
   ]
  },
  {
   "cell_type": "markdown",
   "metadata": {},
   "source": [
    "# Final Steps\n",
    "Clean up your code, adding comments and renaming variables to make the code easier to read and maintain. Refer to the Spark Project Overview page and Data Scientist Capstone Project Rubric to make sure you are including all components of the capstone project and meet all expectations. Remember, this includes thorough documentation in a README file in a Github repository, as well as a web app or blog post."
   ]
  },
  {
   "cell_type": "code",
   "execution_count": null,
   "metadata": {},
   "outputs": [],
   "source": []
  }
 ],
 "metadata": {
  "kernelspec": {
   "display_name": "Python 3",
   "language": "python",
   "name": "python3"
  },
  "language_info": {
   "codemirror_mode": {
    "name": "ipython",
    "version": 3
   },
   "file_extension": ".py",
   "mimetype": "text/x-python",
   "name": "python",
   "nbconvert_exporter": "python",
   "pygments_lexer": "ipython3",
   "version": "3.6.3"
  }
 },
 "nbformat": 4,
 "nbformat_minor": 2
}
